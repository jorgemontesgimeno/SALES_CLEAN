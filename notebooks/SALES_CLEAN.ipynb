{
 "cells": [
  {
   "cell_type": "markdown",
   "id": "87a799b3",
   "metadata": {},
   "source": [
    "# 1- IMPORTS Y CARGA"
   ]
  },
  {
   "cell_type": "code",
   "execution_count": 13,
   "id": "53fe93e2",
   "metadata": {},
   "outputs": [],
   "source": [
    "import pandas as pd\n",
    "import matplotlib.pyplot as plt"
   ]
  },
  {
   "cell_type": "code",
   "execution_count": 14,
   "id": "2f45ecb7",
   "metadata": {},
   "outputs": [],
   "source": [
    "csv_path = \"../data/raw/datos.csv\""
   ]
  },
  {
   "cell_type": "code",
   "execution_count": 15,
   "id": "c853d932",
   "metadata": {},
   "outputs": [],
   "source": [
    "df = pd.read_csv(csv_path, parse_dates=[\"date\"])"
   ]
  },
  {
   "cell_type": "code",
   "execution_count": 16,
   "id": "81f7c29c",
   "metadata": {},
   "outputs": [
    {
     "data": {
      "text/html": [
       "<div>\n",
       "<style scoped>\n",
       "    .dataframe tbody tr th:only-of-type {\n",
       "        vertical-align: middle;\n",
       "    }\n",
       "\n",
       "    .dataframe tbody tr th {\n",
       "        vertical-align: top;\n",
       "    }\n",
       "\n",
       "    .dataframe thead th {\n",
       "        text-align: right;\n",
       "    }\n",
       "</style>\n",
       "<table border=\"1\" class=\"dataframe\">\n",
       "  <thead>\n",
       "    <tr style=\"text-align: right;\">\n",
       "      <th></th>\n",
       "      <th>order_id</th>\n",
       "      <th>date</th>\n",
       "      <th>country</th>\n",
       "      <th>product</th>\n",
       "      <th>units</th>\n",
       "      <th>unit_price</th>\n",
       "      <th>status</th>\n",
       "      <th>shipping</th>\n",
       "    </tr>\n",
       "  </thead>\n",
       "  <tbody>\n",
       "    <tr>\n",
       "      <th>0</th>\n",
       "      <td>3001</td>\n",
       "      <td>2025-09-27</td>\n",
       "      <td>ES</td>\n",
       "      <td>Taza Yo &lt;3 Data</td>\n",
       "      <td>2</td>\n",
       "      <td>12.0</td>\n",
       "      <td>paid</td>\n",
       "      <td>standard</td>\n",
       "    </tr>\n",
       "    <tr>\n",
       "      <th>1</th>\n",
       "      <td>3002</td>\n",
       "      <td>2025-09-27</td>\n",
       "      <td>FR</td>\n",
       "      <td>Calcetines con patitos</td>\n",
       "      <td>1</td>\n",
       "      <td>9.0</td>\n",
       "      <td>cancelled</td>\n",
       "      <td>express</td>\n",
       "    </tr>\n",
       "    <tr>\n",
       "      <th>2</th>\n",
       "      <td>3003</td>\n",
       "      <td>2025-09-28</td>\n",
       "      <td>ES</td>\n",
       "      <td>Portatil Modo Kaggle</td>\n",
       "      <td>1</td>\n",
       "      <td>640.0</td>\n",
       "      <td>paid</td>\n",
       "      <td>express</td>\n",
       "    </tr>\n",
       "    <tr>\n",
       "      <th>3</th>\n",
       "      <td>3004</td>\n",
       "      <td>2025-09-28</td>\n",
       "      <td>PT</td>\n",
       "      <td>USB-C Hub Por si acaso</td>\n",
       "      <td>3</td>\n",
       "      <td>29.9</td>\n",
       "      <td>paid</td>\n",
       "      <td>standard</td>\n",
       "    </tr>\n",
       "    <tr>\n",
       "      <th>4</th>\n",
       "      <td>3005</td>\n",
       "      <td>2025-09-28</td>\n",
       "      <td>IT</td>\n",
       "      <td>Monitor 27p 4K para plots</td>\n",
       "      <td>1</td>\n",
       "      <td>179.0</td>\n",
       "      <td>paid</td>\n",
       "      <td>standard</td>\n",
       "    </tr>\n",
       "  </tbody>\n",
       "</table>\n",
       "</div>"
      ],
      "text/plain": [
       "   order_id       date country                    product  units  unit_price  \\\n",
       "0      3001 2025-09-27      ES            Taza Yo <3 Data      2        12.0   \n",
       "1      3002 2025-09-27      FR     Calcetines con patitos      1         9.0   \n",
       "2      3003 2025-09-28      ES       Portatil Modo Kaggle      1       640.0   \n",
       "3      3004 2025-09-28      PT     USB-C Hub Por si acaso      3        29.9   \n",
       "4      3005 2025-09-28      IT  Monitor 27p 4K para plots      1       179.0   \n",
       "\n",
       "      status  shipping  \n",
       "0       paid  standard  \n",
       "1  cancelled   express  \n",
       "2       paid   express  \n",
       "3       paid  standard  \n",
       "4       paid  standard  "
      ]
     },
     "execution_count": 16,
     "metadata": {},
     "output_type": "execute_result"
    }
   ],
   "source": [
    "df.head()"
   ]
  },
  {
   "cell_type": "code",
   "execution_count": 17,
   "id": "8d5be2a3",
   "metadata": {},
   "outputs": [
    {
     "data": {
      "text/plain": [
       "order_id               int64\n",
       "date          datetime64[ns]\n",
       "country               object\n",
       "product               object\n",
       "units                  int64\n",
       "unit_price           float64\n",
       "status                object\n",
       "shipping              object\n",
       "dtype: object"
      ]
     },
     "execution_count": 17,
     "metadata": {},
     "output_type": "execute_result"
    }
   ],
   "source": [
    "df.dtypes"
   ]
  },
  {
   "cell_type": "markdown",
   "id": "268b17a5",
   "metadata": {},
   "source": [
    "# 2- CONTEOS Y COLUMNA DERIVADA"
   ]
  },
  {
   "cell_type": "code",
   "execution_count": 22,
   "id": "6c0289cf",
   "metadata": {},
   "outputs": [
    {
     "data": {
      "text/html": [
       "<div>\n",
       "<style scoped>\n",
       "    .dataframe tbody tr th:only-of-type {\n",
       "        vertical-align: middle;\n",
       "    }\n",
       "\n",
       "    .dataframe tbody tr th {\n",
       "        vertical-align: top;\n",
       "    }\n",
       "\n",
       "    .dataframe thead th {\n",
       "        text-align: right;\n",
       "    }\n",
       "</style>\n",
       "<table border=\"1\" class=\"dataframe\">\n",
       "  <thead>\n",
       "    <tr style=\"text-align: right;\">\n",
       "      <th></th>\n",
       "      <th>units</th>\n",
       "      <th>unit_price</th>\n",
       "      <th>order_total</th>\n",
       "    </tr>\n",
       "  </thead>\n",
       "  <tbody>\n",
       "    <tr>\n",
       "      <th>0</th>\n",
       "      <td>2</td>\n",
       "      <td>12.0</td>\n",
       "      <td>24.0</td>\n",
       "    </tr>\n",
       "    <tr>\n",
       "      <th>1</th>\n",
       "      <td>1</td>\n",
       "      <td>9.0</td>\n",
       "      <td>9.0</td>\n",
       "    </tr>\n",
       "    <tr>\n",
       "      <th>2</th>\n",
       "      <td>1</td>\n",
       "      <td>640.0</td>\n",
       "      <td>640.0</td>\n",
       "    </tr>\n",
       "    <tr>\n",
       "      <th>3</th>\n",
       "      <td>3</td>\n",
       "      <td>29.9</td>\n",
       "      <td>89.7</td>\n",
       "    </tr>\n",
       "    <tr>\n",
       "      <th>4</th>\n",
       "      <td>1</td>\n",
       "      <td>179.0</td>\n",
       "      <td>179.0</td>\n",
       "    </tr>\n",
       "  </tbody>\n",
       "</table>\n",
       "</div>"
      ],
      "text/plain": [
       "   units  unit_price  order_total\n",
       "0      2        12.0         24.0\n",
       "1      1         9.0          9.0\n",
       "2      1       640.0        640.0\n",
       "3      3        29.9         89.7\n",
       "4      1       179.0        179.0"
      ]
     },
     "execution_count": 22,
     "metadata": {},
     "output_type": "execute_result"
    }
   ],
   "source": [
    "status_counts = df[\"status\"].value_counts()\n",
    "country_counts = df[\"country\"].value_counts()\n",
    "\n",
    "df[\"order_total\"] = df[\"units\"] * df[\"unit_price\"]\n",
    "\n",
    "df[[\"units\", \"unit_price\", \"order_total\"]].head()"
   ]
  },
  {
   "cell_type": "markdown",
   "id": "8a5581d8",
   "metadata": {},
   "source": [
    "# 3- GRAFICA 1: INGRESOS DIARIOS"
   ]
  },
  {
   "cell_type": "code",
   "execution_count": 31,
   "id": "b35fa6b5",
   "metadata": {},
   "outputs": [
    {
     "data": {
      "text/html": [
       "<div>\n",
       "<style scoped>\n",
       "    .dataframe tbody tr th:only-of-type {\n",
       "        vertical-align: middle;\n",
       "    }\n",
       "\n",
       "    .dataframe tbody tr th {\n",
       "        vertical-align: top;\n",
       "    }\n",
       "\n",
       "    .dataframe thead th {\n",
       "        text-align: right;\n",
       "    }\n",
       "</style>\n",
       "<table border=\"1\" class=\"dataframe\">\n",
       "  <thead>\n",
       "    <tr style=\"text-align: right;\">\n",
       "      <th></th>\n",
       "      <th>order_id</th>\n",
       "      <th>date</th>\n",
       "      <th>country</th>\n",
       "      <th>product</th>\n",
       "      <th>units</th>\n",
       "      <th>unit_price</th>\n",
       "      <th>status</th>\n",
       "      <th>shipping</th>\n",
       "      <th>order_total</th>\n",
       "    </tr>\n",
       "  </thead>\n",
       "  <tbody>\n",
       "    <tr>\n",
       "      <th>0</th>\n",
       "      <td>3001</td>\n",
       "      <td>2025-09-27</td>\n",
       "      <td>ES</td>\n",
       "      <td>Taza Yo &lt;3 Data</td>\n",
       "      <td>2</td>\n",
       "      <td>12.0</td>\n",
       "      <td>paid</td>\n",
       "      <td>standard</td>\n",
       "      <td>24.0</td>\n",
       "    </tr>\n",
       "    <tr>\n",
       "      <th>2</th>\n",
       "      <td>3003</td>\n",
       "      <td>2025-09-28</td>\n",
       "      <td>ES</td>\n",
       "      <td>Portatil Modo Kaggle</td>\n",
       "      <td>1</td>\n",
       "      <td>640.0</td>\n",
       "      <td>paid</td>\n",
       "      <td>express</td>\n",
       "      <td>640.0</td>\n",
       "    </tr>\n",
       "    <tr>\n",
       "      <th>3</th>\n",
       "      <td>3004</td>\n",
       "      <td>2025-09-28</td>\n",
       "      <td>PT</td>\n",
       "      <td>USB-C Hub Por si acaso</td>\n",
       "      <td>3</td>\n",
       "      <td>29.9</td>\n",
       "      <td>paid</td>\n",
       "      <td>standard</td>\n",
       "      <td>89.7</td>\n",
       "    </tr>\n",
       "    <tr>\n",
       "      <th>4</th>\n",
       "      <td>3005</td>\n",
       "      <td>2025-09-28</td>\n",
       "      <td>IT</td>\n",
       "      <td>Monitor 27p 4K para plots</td>\n",
       "      <td>1</td>\n",
       "      <td>179.0</td>\n",
       "      <td>paid</td>\n",
       "      <td>standard</td>\n",
       "      <td>179.0</td>\n",
       "    </tr>\n",
       "    <tr>\n",
       "      <th>5</th>\n",
       "      <td>3006</td>\n",
       "      <td>2025-09-29</td>\n",
       "      <td>ES</td>\n",
       "      <td>Raton Click Feliz</td>\n",
       "      <td>4</td>\n",
       "      <td>15.0</td>\n",
       "      <td>paid</td>\n",
       "      <td>express</td>\n",
       "      <td>60.0</td>\n",
       "    </tr>\n",
       "  </tbody>\n",
       "</table>\n",
       "</div>"
      ],
      "text/plain": [
       "   order_id       date country                    product  units  unit_price  \\\n",
       "0      3001 2025-09-27      ES            Taza Yo <3 Data      2        12.0   \n",
       "2      3003 2025-09-28      ES       Portatil Modo Kaggle      1       640.0   \n",
       "3      3004 2025-09-28      PT     USB-C Hub Por si acaso      3        29.9   \n",
       "4      3005 2025-09-28      IT  Monitor 27p 4K para plots      1       179.0   \n",
       "5      3006 2025-09-29      ES          Raton Click Feliz      4        15.0   \n",
       "\n",
       "  status  shipping  order_total  \n",
       "0   paid  standard         24.0  \n",
       "2   paid   express        640.0  \n",
       "3   paid  standard         89.7  \n",
       "4   paid  standard        179.0  \n",
       "5   paid   express         60.0  "
      ]
     },
     "execution_count": 31,
     "metadata": {},
     "output_type": "execute_result"
    }
   ],
   "source": [
    "df_paid = df[df[\"status\"]==\"paid\"].copy()\n",
    "df_paid.head()"
   ]
  },
  {
   "cell_type": "code",
   "execution_count": 27,
   "id": "c26bd410",
   "metadata": {},
   "outputs": [
    {
     "data": {
      "text/plain": [
       "date\n",
       "2025-09-27     24.0\n",
       "2025-09-28    908.7\n",
       "2025-09-29     84.0\n",
       "2025-09-30    840.0\n",
       "2025-10-01    752.5\n",
       "Name: order_total, dtype: float64"
      ]
     },
     "execution_count": 27,
     "metadata": {},
     "output_type": "execute_result"
    }
   ],
   "source": [
    "daily_rev = df_paid.groupby(\"date\")[\"order_total\"].sum()\n",
    "daily_rev.head()"
   ]
  },
  {
   "cell_type": "code",
   "execution_count": 28,
   "id": "0e41f063",
   "metadata": {},
   "outputs": [
    {
     "data": {
      "image/png": "[encoded data removed]",
      "text/plain": [
       "<Figure size 640x480 with 1 Axes>"
      ]
     },
     "metadata": {},
     "output_type": "display_data"
    }
   ],
   "source": [
    "ax = daily_rev.plot(kind=\"bar\", title=\"Ingresos diarios (solo paid)\")\n",
    "ax.set_xlabel(\"Fecha\")\n",
    "ax.set_ylabel(\"Ingresos\")\n",
    "plt.tight_layout()\n",
    "plt.show()"
   ]
  },
  {
   "cell_type": "markdown",
   "id": "6053cf68",
   "metadata": {},
   "source": [
    "# 4- GRAFICA 2: PEDIDOS POR PAIS"
   ]
  },
  {
   "cell_type": "code",
   "execution_count": 30,
   "id": "4fb669d6",
   "metadata": {},
   "outputs": [
    {
     "data": {
      "image/png": "[encoded data removed]",
      "text/plain": [
       "<Figure size 640x480 with 1 Axes>"
      ]
     },
     "metadata": {},
     "output_type": "display_data"
    }
   ],
   "source": [
    "paid_country_counts = df_paid[\"country\"].value_counts()\n",
    "ax = paid_country_counts.plot(kind=\"bar\", title=\"Pedidos por país (paid)\")\n",
    "ax.set_xlabel(\"País\")\n",
    "ax.set_ylabel(\"Nº pedidos\")\n",
    "plt.tight_layout()\n",
    "plt.show()\n"
   ]
  },
  {
   "cell_type": "markdown",
   "id": "22f6b0ef",
   "metadata": {},
   "source": [
    "# 5- FLITROS + KPIS MANUALES"
   ]
  },
  {
   "cell_type": "code",
   "execution_count": 48,
   "id": "d928709c",
   "metadata": {},
   "outputs": [
    {
     "data": {
      "text/plain": [
       "(9, 2480.0, 275.55555555555554)"
      ]
     },
     "execution_count": 48,
     "metadata": {},
     "output_type": "execute_result"
    }
   ],
   "source": [
    "start = \"2025-09-28\"   \n",
    "end   = \"2025-10-05\"   \n",
    "country = \"ES\"         \n",
    "\n",
    "mask = (\n",
    "    (df[\"date\"] >= pd.to_datetime(start)) &   \n",
    "    (df[\"date\"] <= pd.to_datetime(end)) &   \n",
    "    (df[\"country\"] == country)                \n",
    ")\n",
    "\n",
    "sub = df[mask].copy()\n",
    "sub_paid = sub[ sub[\"status\"] == \"paid\" ].copy()\n",
    "\n",
    "num_orders = sub_paid.shape[0] # TODO: nº filas\n",
    "total_revenue = sum(sub_paid[\"units\"]*sub_paid[\"unit_price\"]) # TODO: suma de units * unit_price en sub_paid\n",
    "if num_orders > 0:\n",
    "    avg_order_value = total_revenue / num_orders\n",
    "else:\n",
    "    avg_order_value = 0\n",
    "\n",
    "(num_orders, total_revenue, avg_order_value)"
   ]
  },
  {
   "cell_type": "markdown",
   "id": "a0e38d3c",
   "metadata": {},
   "source": [
    "# 6- MARKDOWN: REGLAS ACORDADAS"
   ]
  },
  {
   "cell_type": "markdown",
   "id": "72e9272f",
   "metadata": {},
   "source": [
    "### Reglas acordadas\n",
    "\n",
    "* Filtros aplicables: `start`, `end`, `country`.\n",
    "* Los KPIs se calculan **solo con `status=\"paid\"`**.\n",
    "* Los valores numéricos se redondean a **2 decimales**.\n",
    "* Si `num_orders == 0`, entonces `avg_order_value = 0.0`."
   ]
  }
 ],
 "metadata": {
  "kernelspec": {
   "display_name": "env_11",
   "language": "python",
   "name": "python3"
  },
  "language_info": {
   "codemirror_mode": {
    "name": "ipython",
    "version": 3
   },
   "file_extension": ".py",
   "mimetype": "text/x-python",
   "name": "python",
   "nbconvert_exporter": "python",
   "pygments_lexer": "ipython3",
   "version": "3.11.13"
  }
 },
 "nbformat": 4,
 "nbformat_minor": 5
}
